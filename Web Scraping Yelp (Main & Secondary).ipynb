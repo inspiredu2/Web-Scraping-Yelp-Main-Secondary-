{
 "cells": [
  {
   "cell_type": "code",
   "execution_count": null,
   "metadata": {},
   "outputs": [],
   "source": [
    "import bs4 as bs"
   ]
  },
  {
   "cell_type": "code",
   "execution_count": null,
   "metadata": {},
   "outputs": [],
   "source": [
    "import urllib.request as url"
   ]
  },
  {
   "cell_type": "code",
   "execution_count": null,
   "metadata": {},
   "outputs": [],
   "source": [
    "source = url.urlopen('https://www.yelp.com/search?find_desc=Burgers&find_loc=Melbourne+Victoria&ns=1')"
   ]
  },
  {
   "cell_type": "code",
   "execution_count": null,
   "metadata": {},
   "outputs": [],
   "source": [
    "page_soup = bs.BeautifulSoup(source, 'html.parser')"
   ]
  },
  {
   "cell_type": "code",
   "execution_count": null,
   "metadata": {},
   "outputs": [],
   "source": [
    "mains = page_soup.find_all(\"div\", {\"class\": \"lemon--div__373c0__1mboc mainAttributes__373c0__1r0QA arrange-unit__373c0__1piwO arrange-unit-fill__373c0__17z0h border-color--default__373c0__2oFDT\"})"
   ]
  },
  {
   "cell_type": "code",
   "execution_count": null,
   "metadata": {},
   "outputs": [],
   "source": [
    "main = mains[0] #First item of mains\n",
    "\n",
    "#Empty list for main list items\n",
    "\n",
    "busname = []\n",
    "ratings = []\n",
    "noreviews = []\n",
    "price = []"
   ]
  },
  {
   "cell_type": "code",
   "execution_count": null,
   "metadata": {},
   "outputs": [],
   "source": [
    "#Get Main attributes (name, ratings, noreviews, price)\n",
    "\n",
    "for main in mains:\n",
    "    try:\n",
    "        busname.append(main.find(\"a\").text)\n",
    "    except:\n",
    "        busname.append(\"None\")\n",
    "    try:\n",
    "        ratings.append(main.find(\"span\", {\"class\": \"lemon--span__373c0__3997G display--inline__373c0__1DbOG border-color--default__373c0__2oFDT\"}).div.get('aria-label'))\n",
    "    except:\n",
    "        ratings.append(\"None\")\n",
    "    try:\n",
    "        noreviews.append(main.find(\"span\", {\"class\": \"lemon--span__373c0__3997G text__373c0__2pB8f reviewCount__373c0__2r4xT text-color--mid__373c0__3G312 text-align--left__373c0__2pnx_\"}).text)\n",
    "    except:\n",
    "        noreviews.append(\"None\")\n",
    "    try:\n",
    "        price.append(main.find(\"span\", {\"class\": \"lemon--span__373c0__3997G text__373c0__2pB8f priceRange__373c0__2DY87 text-color--normal__373c0__K_MKN text-align--left__373c0__2pnx_ text-bullet--after__373c0__1ZHaA\"}).text)\n",
    "    except:\n",
    "        price.append(\"None\")"
   ]
  },
  {
   "cell_type": "code",
   "execution_count": null,
   "metadata": {},
   "outputs": [],
   "source": [
    "secondarys = page_soup.find_all(\"div\", {\"class\": \"lemon--div__373c0__1mboc secondaryAttributes__373c0__7bA0w arrange-unit__373c0__1piwO border-color--default__373c0__2oFDT\"})\n",
    "sec = secondarys[0]"
   ]
  },
  {
   "cell_type": "code",
   "execution_count": null,
   "metadata": {},
   "outputs": [],
   "source": [
    "#Empty list for secondary list items\n",
    "\n",
    "add = []\n",
    "tel = []"
   ]
  },
  {
   "cell_type": "code",
   "execution_count": null,
   "metadata": {},
   "outputs": [],
   "source": [
    "#Get Secondary attributes (add, tel)\n",
    "\n",
    "for sec in secondarys:\n",
    "    try:       \n",
    "        add.append(sec.address.find(\"span\", {\"class\": \"lemon--span__373c0__3997G\"}).text)\n",
    "    except:\n",
    "        add.append(\"None\")\n",
    "    try:\n",
    "        tel.append(sec.div.div.text)\n",
    "    except: \n",
    "        tel.append(\"None\")"
   ]
  },
  {
   "cell_type": "code",
   "execution_count": null,
   "metadata": {},
   "outputs": [],
   "source": [
    "#Replace any non-telephone numbers with \"None\"\n",
    "\n",
    "new_tel = [x if (bool(re.search(r'[(]\\d\\d[)].\\d{4}.\\d{4}|[(]\\d\\d[)].\\d{4}.\\d{3}|\\d{4}.\\d{3}.\\d{3}', x)) == True) else \"None\" for x in tel]"
   ]
  },
  {
   "cell_type": "code",
   "execution_count": null,
   "metadata": {},
   "outputs": [],
   "source": [
    "#Save work in csv file\n",
    "\n",
    "import pandas as pd\n",
    "\n",
    "data = {}\n",
    "data = {'Rest_name': busname, 'Rest_ratings': ratings, 'Rest_noreviews': noreviews, 'Rest_price': price, 'Rest_add': add, 'Rest_tel': new_tel}\n",
    "rest = pd.DataFrame(data)\n",
    "header = [\"Rest_name\", \"Rest_ratings\", \"Rest_noreviews\", \"Rest_price\", \"Rest_add\", \"Rest_tel\"]\n",
    "rest.to_csv(\"Output.csv\", columns = header)"
   ]
  }
 ],
 "metadata": {
  "kernelspec": {
   "display_name": "Python 3",
   "language": "python",
   "name": "python3"
  },
  "language_info": {
   "codemirror_mode": {
    "name": "ipython",
    "version": 3
   },
   "file_extension": ".py",
   "mimetype": "text/x-python",
   "name": "python",
   "nbconvert_exporter": "python",
   "pygments_lexer": "ipython3",
   "version": "3.7.3"
  }
 },
 "nbformat": 4,
 "nbformat_minor": 2
}
